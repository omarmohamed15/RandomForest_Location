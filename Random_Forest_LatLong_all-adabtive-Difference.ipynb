{
 "cells": [
  {
   "cell_type": "code",
   "execution_count": 41,
   "metadata": {},
   "outputs": [],
   "source": [
    "import time\n",
    "\n",
    "def TicTocGenerator():\n",
    "    # Generator that returns time differences\n",
    "    ti = 0           # initial time\n",
    "    tf = time.time() # final time\n",
    "    while True:\n",
    "        ti = tf\n",
    "        tf = time.time()\n",
    "        yield tf-ti # returns the time difference\n",
    "\n",
    "TicToc = TicTocGenerator() # create an instance of the TicTocGen generator\n",
    "\n",
    "# This will be the main function through which we define both tic() and toc()\n",
    "def toc(tempBool=True):\n",
    "    # Prints the time difference yielded by generator instance TicToc\n",
    "    tempTimeInterval = next(TicToc)\n",
    "    if tempBool:\n",
    "        print( \"Elapsed time: %f seconds.\\n\" %tempTimeInterval )\n",
    "\n",
    "def tic():\n",
    "    # Records a time in TicToc, marks the beginning of a time interval\n",
    "    toc(False)"
   ]
  },
  {
   "cell_type": "code",
   "execution_count": 42,
   "metadata": {
    "scrolled": true
   },
   "outputs": [
    {
     "name": "stderr",
     "output_type": "stream",
     "text": [
      "[Parallel(n_jobs=-1)]: Using backend ThreadingBackend with 16 concurrent workers.\n",
      "[Parallel(n_jobs=-1)]: Done  18 tasks      | elapsed:   48.3s\n"
     ]
    },
    {
     "name": "stdout",
     "output_type": "stream",
     "text": [
      "Elapsed time: 160.959506 seconds.\n",
      "\n"
     ]
    },
    {
     "name": "stderr",
     "output_type": "stream",
     "text": [
      "[Parallel(n_jobs=-1)]: Done 100 out of 100 | elapsed:  2.7min finished\n"
     ]
    }
   ],
   "source": [
    "from sklearn.ensemble import RandomForestRegressor\n",
    "import numpy as np\n",
    "\n",
    "le = 20\n",
    "p_all = np.load('Input_RF.npy')\n",
    "d = np.load('Target_RF.npy')\n",
    "d = d*le\n",
    "\n",
    "regr = RandomForestRegressor(max_depth=1000,max_features=8,min_samples_leaf=1,n_estimators=100,oob_score=False,random_state=0,verbose=1,criterion='mse',n_jobs=-1)\n",
    "ix = int(len(p_all)*0.9)\n",
    "tic()\n",
    "regr.fit(p_all[0:ix],d[0:ix]) \n",
    "toc()\n",
    "# Scaling\n",
    "d  = d /le"
   ]
  },
  {
   "cell_type": "code",
   "execution_count": 50,
   "metadata": {},
   "outputs": [
    {
     "name": "stderr",
     "output_type": "stream",
     "text": [
      "[Parallel(n_jobs=16)]: Using backend ThreadingBackend with 16 concurrent workers.\n",
      "[Parallel(n_jobs=16)]: Done  18 tasks      | elapsed:    0.5s\n"
     ]
    },
    {
     "name": "stdout",
     "output_type": "stream",
     "text": [
      "Elapsed time: 1.917317 seconds.\n",
      "\n",
      "0.014518537014 0.0228072716339\n"
     ]
    },
    {
     "name": "stderr",
     "output_type": "stream",
     "text": [
      "[Parallel(n_jobs=16)]: Done 100 out of 100 | elapsed:    1.8s finished\n"
     ]
    }
   ],
   "source": [
    "# test\n",
    "tic()\n",
    "outtest = regr.predict(p_all[ix:])\n",
    "toc()\n",
    "# Scaling\n",
    "outtest = outtest/le\n",
    "\n",
    "ddx = p_all[:,0][ix:]\n",
    "ddx1 = p_all[:,5][ix:]\n",
    "dd = ddx   -  d[:,0][ix:]\n",
    "dd1 = ddx1 - d[:,1][ix:]\n",
    "\n",
    "\n",
    "distall=[]\n",
    "outtest1 = np.zeros_like(outtest)\n",
    "outtest1[:,0] =   ddx - outtest[:,0]\n",
    "outtest1[:,1] =   ddx1  - outtest[:,1]\n",
    "\n",
    "errlattest  = np.mean(np.abs( np.abs(outtest1[:,0]) - np.abs(dd) ))\n",
    "errlongtest = np.mean(np.abs( np.abs(outtest1[:,1]) - np.abs(dd1) ))\n",
    "# Lat and Lon error in degree\n",
    "print(errlattest, errlongtest)"
   ]
  },
  {
   "cell_type": "code",
   "execution_count": 51,
   "metadata": {},
   "outputs": [
    {
     "name": "stdout",
     "output_type": "stream",
     "text": [
      "159793 169279 0.9439623343710679 2.87891661329\n"
     ]
    }
   ],
   "source": [
    "import obspy\n",
    "c=[]\n",
    "\n",
    "\n",
    "\n",
    "distall=[]\n",
    "outtest1 = np.zeros_like(outtest)\n",
    "outtest1[:,0] =   ddx - outtest[:,0]\n",
    "outtest1[:,1] =   ddx1  - outtest[:,1]\n",
    "for i in range(0,len(dd)):\n",
    "    #mae = np.mean(np.abs(outtest[i]-dd[i]))\n",
    "    #mae1 = np.mean(np.abs(outtest1[i]-dd1[i]))\n",
    "    #if (mae<=0.1) and (mae1<=0.1):\n",
    "    dis = obspy.geodetics.base.gps2dist_azimuth(dd[i],dd1[i],outtest1[i,0],outtest1[i,1])\n",
    "    distall.append(dis[0]/1000)\n",
    "    if np.array(dis)[0]/1000<=0.1*112:\n",
    "        c.append(i)\n",
    "distall = np.array(distall)\n",
    "c = np.array(c)\n",
    "# print distance error in km, Number of events having error within 0.1 degree and its percentage.\n",
    "print(len(c), len(dd), len(c)/len(dd), np.mean(np.array(distall)))"
   ]
  },
  {
   "cell_type": "code",
   "execution_count": 52,
   "metadata": {
    "scrolled": true
   },
   "outputs": [
    {
     "data": {
      "text/plain": [
       "2.8789166132943049"
      ]
     },
     "execution_count": 52,
     "metadata": {},
     "output_type": "execute_result"
    },
    {
     "data": {
      "image/png": "[encoded data removed]",
      "text/plain": [
       "<Figure size 432x288 with 1 Axes>"
      ]
     },
     "metadata": {
      "needs_background": "light"
     },
     "output_type": "display_data"
    }
   ],
   "source": [
    "import matplotlib.pyplot as plt\n",
    "plt.hist(distall,bins=50)\n",
    "np.mean(distall)\n",
    "\n"
   ]
  },
  {
   "cell_type": "code",
   "execution_count": null,
   "metadata": {},
   "outputs": [],
   "source": []
  }
 ],
 "metadata": {
  "kernelspec": {
   "display_name": "Python 3",
   "language": "python",
   "name": "python3"
  },
  "language_info": {
   "codemirror_mode": {
    "name": "ipython",
    "version": 3
   },
   "file_extension": ".py",
   "mimetype": "text/x-python",
   "name": "python",
   "nbconvert_exporter": "python",
   "pygments_lexer": "ipython3",
   "version": "3.7.4"
  }
 },
 "nbformat": 4,
 "nbformat_minor": 2
}
